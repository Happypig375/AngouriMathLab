{
 "cells": [
  {
   "cell_type": "code",
   "execution_count": null,
   "metadata": {
    "scrolled": false
   },
   "outputs": [],
   "source": [
    "#r \"nuget:AngouriMath.Interactive, 0.0.1-alpha.1\""
   ]
  },
  {
   "cell_type": "code",
   "execution_count": null,
   "metadata": {},
   "outputs": [],
   "source": [
    "using AngouriMath;\n",
    "using AngouriMath.Extensions;\n",
    "new AngouriMath.Interactive.SessionRunner().Init();"
   ]
  },
  {
   "cell_type": "code",
   "execution_count": null,
   "metadata": {},
   "outputs": [],
   "source": [
    "\"x2 + sin(sqrt(x + 1/2)) + integral(sqrt(x + derivative(sin(y), y)), x)\".ToEntity()"
   ]
  },
  {
   "cell_type": "code",
   "execution_count": null,
   "metadata": {},
   "outputs": [],
   "source": [
    "var sys = MathS.Equations(\n",
    "    \"x + 2 - y - y2\",\n",
    "    \"x / y - sin(z) + 3\",\n",
    "    \"x - sin(z)\"\n",
    ");\n",
    "sys"
   ]
  },
  {
   "cell_type": "code",
   "execution_count": null,
   "metadata": {},
   "outputs": [],
   "source": [
    "MathS.Matrices.Matrix(new Entity[,]{\n",
    "    { \"x / 2\", \"beta - 2^3\", \"e / sqrt(pi)\" },\n",
    "    { \"epsilon\", \"integral(sin(k), k)\", \"e - pi\" },\n",
    "})"
   ]
  }
 ],
 "metadata": {
  "kernelspec": {
   "display_name": ".NET (C#)",
   "language": "C#",
   "name": ".net-csharp"
  },
  "language_info": {
   "file_extension": ".cs",
   "mimetype": "text/x-csharp",
   "name": "C#",
   "pygments_lexer": "csharp",
   "version": "8.0"
  }
 },
 "nbformat": 4,
 "nbformat_minor": 2
}
